{
 "cells": [
  {
   "attachments": {},
   "cell_type": "markdown",
   "metadata": {},
   "source": [
    "\n",
    "(tutorials-hubbard-selfconsistent)=\n",
    "\n",
    "# Computing Hubbard parameters self-consistently\n",
    "\n",
    "In this tutorial you will learn how to compute iteratively the Hubbard parameters through the {py:class}`~aiida_hubbard.workflows.hubbard.SelfConsistentHubbardWorkChain`."
   ]
  },
  {
   "cell_type": "code",
   "execution_count": 26,
   "metadata": {
    "tags": [
     "hide-cell"
    ]
   },
   "outputs": [
    {
     "data": {
      "text/plain": [
       "<HubbardStructureData: uuid: 9d705e59-86f6-4c3b-86b9-24cc85e5d78a (pk: 419)>"
      ]
     },
     "execution_count": 26,
     "metadata": {},
     "output_type": "execute_result"
    }
   ],
   "source": [
    "from local_module import load_temp_profile\n",
    "from aiida_quantumespresso.data.hubbard_structure import HubbardStructureData\n",
    "\n",
    "# If you download this file, you can run it with your own profile.\n",
    "# Put these lines instead:\n",
    "# from aiida import load_profile\n",
    "# load_profile()\n",
    "data = load_temp_profile(\n",
    "    name=\"hubbard-selfconsistent-tutorial\",\n",
    "    add_computer=True,\n",
    "    add_pw_code=True,\n",
    "    add_hp_code=True,\n",
    "    add_sssp=True,\n",
    ")\n",
    "\n",
    "# We initialize only the U, so that `hp.x` will understand it\n",
    "# needs to compute only the onsite parameters.\n",
    "a, b, c, d = 1.40803, 0.81293, 4.68453, 1.62585\n",
    "cell = [[a, -b, c], [0.0, d, c], [-a, -b, c]]\n",
    "sites = [\n",
    "    ['Co', 'Co', (0, 0, 0)],\n",
    "    ['O',   'O', (0, 0, 3.6608)], \n",
    "    ['O',   'O', (0, 0, 10.392)], \n",
    "    ['Li', 'Li', (0, 0, 7.0268)],\n",
    "]\n",
    "hubbard_structure = HubbardStructureData(cell=cell, sites=sites)\n",
    "hubbard_structure.initialize_onsites_hubbard(\"Co\", \"3d\")\n",
    "hubbard_structure.store()"
   ]
  },
  {
   "attachments": {},
   "cell_type": "markdown",
   "metadata": {},
   "source": [
    "## The cycle\n",
    "\n",
    "To have a full ab-initio calculation of Hubbard parameters, an iterative procedure should be employed. This forsees the following steps, to do in a cyclic way till the parameters don't differ from the previous ones by a certain threshold, i.e. ___self-consistently___.\n",
    "\n",
    "The steps to do in order are:\n",
    "1. Perform a volume relaxation of the structure, starting from a zero value of Hubbard parameters (i.e. if it was a 'non-Hubbard' calculation).\n",
    "2. Perform the ground-state calculation (SCF) of the relaxed structure.\n",
    "3. Perform the linear response calculation to predict the new Hubbard values.\n",
    "4. If _all_ U (and V) are within the desired threshold, stop, otherwise restart with the new values from (1).\n",
    "\n",
    "::: {admonition} Note for SCF (step 2)\n",
    ":class: note\n",
    "\n",
    "Tipically, as these are electronic responses, the gound-state SCF can be performed _with looser energy cutoffs and k poit density_, and still retain the same accuracy on the prediction of Hubbard parameters. \n",
    "\n",
    "```{important}\n",
    "Before any production run, you should make sure to have converged such parameters.\n",
    "```\n",
    ":::\n",
    "\n",
    "::: {admonition} Note for thresholds\n",
    ":class: note\n",
    "\n",
    "Threshold for U and V may depend on the final goal, or property, of your research. From our experience, good values are of the order of 0.1 eV for the onsite parameters (U) and 0.01 eV for the intersites (V).\n",
    ":::\n",
    "\n",
    "### Automating the cycle\n",
    "\n",
    "As we already learnt from the previous tutorials ([1](./1_computing_hubbard.ipynb),[2](./2_parallel_hubbard.ipynb)), we can simply fill the builder of the work chain using the `get_builder_from_protocol` to get to know what the workflow is doing, and how this can help  and speed up our research.\n",
    "\n",
    ":::{warning}\n",
    "In this tutorial we will compute only the U on Co, and not the V for Co-O. This is to speed up the simulation, which on only a handful of cores would take tens of minutes, if not more.\n",
    "\n",
    "This workflow may take 5 minutes (or more) to complete depending on your local resources.\n",
    ":::"
   ]
  },
  {
   "cell_type": "code",
   "execution_count": 27,
   "metadata": {
    "tags": [
     "hide-output"
    ]
   },
   "outputs": [
    {
     "name": "stdout",
     "output_type": "stream",
     "text": [
      "\u001b[34m\u001b[1mReport\u001b[0m: [442|SelfConsistentHubbardWorkChain|setup]: system is treated to be non-magnetic because `nspin == 1` in `scf.pw.parameters` input.\n",
      "\u001b[34m\u001b[1mReport\u001b[0m: [442|SelfConsistentHubbardWorkChain|run_relax]: launching PwRelaxWorkChain<444> iteration #1\n",
      "\u001b[34m\u001b[1mReport\u001b[0m: [444|PwRelaxWorkChain|run_relax]: launching PwBaseWorkChain<447>\n",
      "\u001b[34m\u001b[1mReport\u001b[0m: [447|PwBaseWorkChain|run_process]: launching PwCalculation<452> iteration #1\n",
      "\u001b[34m\u001b[1mReport\u001b[0m: [447|PwBaseWorkChain|results]: work chain completed after 1 iterations\n",
      "\u001b[34m\u001b[1mReport\u001b[0m: [447|PwBaseWorkChain|on_terminated]: remote folders will not be cleaned\n",
      "\u001b[34m\u001b[1mReport\u001b[0m: [444|PwRelaxWorkChain|inspect_relax]: after iteration 1 cell volume of relaxed structure is 31.592539105379053\n",
      "\u001b[34m\u001b[1mReport\u001b[0m: [444|PwRelaxWorkChain|run_relax]: launching PwBaseWorkChain<461>\n",
      "\u001b[34m\u001b[1mReport\u001b[0m: [461|PwBaseWorkChain|run_process]: launching PwCalculation<466> iteration #1\n",
      "\u001b[31m\u001b[1mError\u001b[0m: Then ionic minimization cycle converged but the thresholds are exceeded in the final SCF.\n",
      "\u001b[93m\u001b[1mWarning\u001b[0m: output parser returned exit code<501>: Then ionic minimization cycle converged but the thresholds are exceeded in the final SCF.\n",
      "\u001b[34m\u001b[1mReport\u001b[0m: [461|PwBaseWorkChain|report_error_handled]: PwCalculation<466> failed with exit status 501: Then ionic minimization cycle converged but the thresholds are exceeded in the final SCF.\n",
      "\u001b[34m\u001b[1mReport\u001b[0m: [461|PwBaseWorkChain|report_error_handled]: Action taken: ionic convergence thresholds met except in final scf: consider structure relaxed.\n",
      "\u001b[34m\u001b[1mReport\u001b[0m: [461|PwBaseWorkChain|results]: work chain completed after 1 iterations\n",
      "\u001b[34m\u001b[1mReport\u001b[0m: [461|PwBaseWorkChain|inspect_process]: PwCalculation<466> failed but a handler detected an unrecoverable problem, aborting\n",
      "\u001b[34m\u001b[1mReport\u001b[0m: [461|PwBaseWorkChain|on_terminated]: remote folders will not be cleaned\n",
      "\u001b[34m\u001b[1mReport\u001b[0m: [444|PwRelaxWorkChain|inspect_relax]: after iteration 2 cell volume of relaxed structure is 31.592538691211796\n",
      "\u001b[34m\u001b[1mReport\u001b[0m: [444|PwRelaxWorkChain|inspect_relax]: relative cell volume difference 1.310965400891578e-08 smaller than threshold 0.05\n",
      "\u001b[34m\u001b[1mReport\u001b[0m: [444|PwRelaxWorkChain|results]: workchain completed after 2 iterations\n",
      "\u001b[34m\u001b[1mReport\u001b[0m: [444|PwRelaxWorkChain|on_terminated]: remote folders will not be cleaned\n",
      "\u001b[34m\u001b[1mReport\u001b[0m: [442|SelfConsistentHubbardWorkChain|run_scf_smearing]: launching PwBaseWorkChain<475> with smeared occupations\n",
      "\u001b[34m\u001b[1mReport\u001b[0m: [475|PwBaseWorkChain|run_process]: launching PwCalculation<480> iteration #1\n",
      "\u001b[34m\u001b[1mReport\u001b[0m: [475|PwBaseWorkChain|results]: work chain completed after 1 iterations\n",
      "\u001b[34m\u001b[1mReport\u001b[0m: [475|PwBaseWorkChain|on_terminated]: remote folders will not be cleaned\n",
      "\u001b[34m\u001b[1mReport\u001b[0m: [442|SelfConsistentHubbardWorkChain|recon_scf]: after relaxation, system is determined to be an insulator\n",
      "\u001b[34m\u001b[1mReport\u001b[0m: [442|SelfConsistentHubbardWorkChain|run_scf_fixed]: launching PwBaseWorkChain<488> with fixed occupations\n",
      "\u001b[34m\u001b[1mReport\u001b[0m: [488|PwBaseWorkChain|run_process]: launching PwCalculation<493> iteration #1\n",
      "\u001b[34m\u001b[1mReport\u001b[0m: [488|PwBaseWorkChain|results]: work chain completed after 1 iterations\n",
      "\u001b[34m\u001b[1mReport\u001b[0m: [488|PwBaseWorkChain|on_terminated]: remote folders will not be cleaned\n",
      "\u001b[34m\u001b[1mReport\u001b[0m: [442|SelfConsistentHubbardWorkChain|run_hp]: launching HpWorkChain<499> iteration #1\n",
      "\u001b[34m\u001b[1mReport\u001b[0m: [499|HpWorkChain|run_base_workchain]: running in serial, launching HpBaseWorkChain<505>\n",
      "\u001b[34m\u001b[1mReport\u001b[0m: [505|HpBaseWorkChain|run_process]: launching HpCalculation<507> iteration #1\n",
      "1\n",
      "\u001b[34m\u001b[1mReport\u001b[0m: [505|HpBaseWorkChain|results]: work chain completed after 1 iterations\n",
      "\u001b[34m\u001b[1mReport\u001b[0m: [505|HpBaseWorkChain|on_terminated]: remote folders will not be cleaned\n",
      "\u001b[34m\u001b[1mReport\u001b[0m: [505|HpBaseWorkChain|on_terminated]: remote folders will not be cleaned\n",
      "\u001b[34m\u001b[1mReport\u001b[0m: [499|HpWorkChain|on_terminated]: remote folders will not be cleaned\n",
      "\u001b[34m\u001b[1mReport\u001b[0m: [442|SelfConsistentHubbardWorkChain|check_convergence]: Hubbard onsites parameters are not converged. Max difference is 8.14829999.\n",
      "\u001b[34m\u001b[1mReport\u001b[0m: [442|SelfConsistentHubbardWorkChain|run_relax]: launching PwRelaxWorkChain<516> iteration #2\n",
      "\u001b[34m\u001b[1mReport\u001b[0m: [516|PwRelaxWorkChain|run_relax]: launching PwBaseWorkChain<519>\n",
      "\u001b[34m\u001b[1mReport\u001b[0m: [519|PwBaseWorkChain|run_process]: launching PwCalculation<524> iteration #1\n",
      "\u001b[31m\u001b[1mError\u001b[0m: ERROR_IONIC_CYCLE_BFGS_HISTORY_FAILURE\n",
      "\u001b[34m\u001b[1mReport\u001b[0m: [519|PwBaseWorkChain|results]: work chain completed after 1 iterations\n",
      "\u001b[34m\u001b[1mReport\u001b[0m: [519|PwBaseWorkChain|on_terminated]: remote folders will not be cleaned\n",
      "\u001b[34m\u001b[1mReport\u001b[0m: [516|PwRelaxWorkChain|inspect_relax]: after iteration 1 cell volume of relaxed structure is 31.944624207488268\n",
      "\u001b[34m\u001b[1mReport\u001b[0m: [516|PwRelaxWorkChain|run_relax]: launching PwBaseWorkChain<533>\n",
      "\u001b[34m\u001b[1mReport\u001b[0m: [533|PwBaseWorkChain|run_process]: launching PwCalculation<538> iteration #1\n",
      "\u001b[34m\u001b[1mReport\u001b[0m: [533|PwBaseWorkChain|results]: work chain completed after 1 iterations\n",
      "\u001b[34m\u001b[1mReport\u001b[0m: [533|PwBaseWorkChain|on_terminated]: remote folders will not be cleaned\n",
      "\u001b[34m\u001b[1mReport\u001b[0m: [516|PwRelaxWorkChain|inspect_relax]: after iteration 2 cell volume of relaxed structure is 31.95904119405152\n",
      "\u001b[34m\u001b[1mReport\u001b[0m: [516|PwRelaxWorkChain|inspect_relax]: relative cell volume difference 0.0004513118222837555 smaller than threshold 0.05\n",
      "\u001b[34m\u001b[1mReport\u001b[0m: [516|PwRelaxWorkChain|results]: workchain completed after 2 iterations\n",
      "\u001b[34m\u001b[1mReport\u001b[0m: [516|PwRelaxWorkChain|on_terminated]: remote folders will not be cleaned\n",
      "\u001b[34m\u001b[1mReport\u001b[0m: [442|SelfConsistentHubbardWorkChain|run_scf_smearing]: launching PwBaseWorkChain<547> with smeared occupations\n",
      "\u001b[34m\u001b[1mReport\u001b[0m: [547|PwBaseWorkChain|run_process]: launching PwCalculation<552> iteration #1\n",
      "\u001b[34m\u001b[1mReport\u001b[0m: [547|PwBaseWorkChain|results]: work chain completed after 1 iterations\n",
      "\u001b[34m\u001b[1mReport\u001b[0m: [547|PwBaseWorkChain|on_terminated]: remote folders will not be cleaned\n",
      "\u001b[34m\u001b[1mReport\u001b[0m: [442|SelfConsistentHubbardWorkChain|recon_scf]: after relaxation, system is determined to be an insulator\n",
      "\u001b[34m\u001b[1mReport\u001b[0m: [442|SelfConsistentHubbardWorkChain|run_scf_fixed]: launching PwBaseWorkChain<560> with fixed occupations\n",
      "\u001b[34m\u001b[1mReport\u001b[0m: [560|PwBaseWorkChain|run_process]: launching PwCalculation<565> iteration #1\n",
      "\u001b[34m\u001b[1mReport\u001b[0m: [560|PwBaseWorkChain|results]: work chain completed after 1 iterations\n",
      "\u001b[34m\u001b[1mReport\u001b[0m: [560|PwBaseWorkChain|on_terminated]: remote folders will not be cleaned\n",
      "\u001b[34m\u001b[1mReport\u001b[0m: [442|SelfConsistentHubbardWorkChain|run_hp]: launching HpWorkChain<571> iteration #2\n",
      "\u001b[34m\u001b[1mReport\u001b[0m: [571|HpWorkChain|run_base_workchain]: running in serial, launching HpBaseWorkChain<577>\n",
      "\u001b[34m\u001b[1mReport\u001b[0m: [577|HpBaseWorkChain|run_process]: launching HpCalculation<579> iteration #1\n",
      "1\n",
      "\u001b[34m\u001b[1mReport\u001b[0m: [577|HpBaseWorkChain|results]: work chain completed after 1 iterations\n",
      "\u001b[34m\u001b[1mReport\u001b[0m: [577|HpBaseWorkChain|on_terminated]: remote folders will not be cleaned\n",
      "\u001b[34m\u001b[1mReport\u001b[0m: [577|HpBaseWorkChain|on_terminated]: remote folders will not be cleaned\n",
      "\u001b[34m\u001b[1mReport\u001b[0m: [571|HpWorkChain|on_terminated]: remote folders will not be cleaned\n",
      "\u001b[34m\u001b[1mReport\u001b[0m: [442|SelfConsistentHubbardWorkChain|check_convergence]: Hubbard parameters are converged. Stopping the cycle.\n",
      "\u001b[34m\u001b[1mReport\u001b[0m: [442|SelfConsistentHubbardWorkChain|run_results]: Hubbard parameters self-consistently converged in 2 iterations\n",
      "\u001b[34m\u001b[1mReport\u001b[0m: [442|SelfConsistentHubbardWorkChain|on_terminated]: remote folders will not be cleaned\n"
     ]
    }
   ],
   "source": [
    "from aiida.engine import run_get_node\n",
    "from aiida_hubbard.workflows.hubbard import SelfConsistentHubbardWorkChain\n",
    "\n",
    "builder = SelfConsistentHubbardWorkChain.get_builder_from_protocol(\n",
    "    pw_code=data.pw_code, \n",
    "    hp_code=data.hp_code, \n",
    "    hubbard_structure=hubbard_structure,\n",
    "    protocol=\"fast\",\n",
    "    overrides={\n",
    "        \"clean_workdir\": False,\n",
    "        \"tolerance_onsite\": 0.5,\n",
    "        \"tolerance_intersite\": 0.1,\n",
    "        \"relax\":{\"base\":{\"kpoints_distance\":1.4}}, # to speed up the tutorial\n",
    "        \"scf\":{\"kpoints_distance\":1.4}, # to speed up the tutorial\n",
    "        \"hubbard\":{\"qpoints_distance\":1000, \"parallelize_atoms\":False, \"parallelize_qpoints\":False}}, # to speed up the tutorial\n",
    ")\n",
    "\n",
    "results, node = run_get_node(builder)"
   ]
  },
  {
   "attachments": {},
   "cell_type": "markdown",
   "metadata": {},
   "source": [
    "Let's inspect the status of the work chain to see the full self-consistency on screen!"
   ]
  },
  {
   "cell_type": "code",
   "execution_count": 28,
   "metadata": {},
   "outputs": [
    {
     "name": "stdout",
     "output_type": "stream",
     "text": [
      "\u001b[22mSelfConsistentHubbardWorkChain<442> Finished [0] [2:run_results]\n",
      "    ├── PwRelaxWorkChain<444> Finished [0] [3:results]\n",
      "    │   ├── PwBaseWorkChain<447> Finished [0] [3:results]\n",
      "    │   │   ├── create_kpoints_from_distance<448> Finished [0]\n",
      "    │   │   └── PwCalculation<452> Finished [0]\n",
      "    │   └── PwBaseWorkChain<461> Finished [501] [2:while_(should_run_process)(2:inspect_process)]\n",
      "    │       ├── create_kpoints_from_distance<462> Finished [0]\n",
      "    │       └── PwCalculation<466> Finished [501]\n",
      "    ├── PwBaseWorkChain<475> Finished [0] [3:results]\n",
      "    │   ├── create_kpoints_from_distance<476> Finished [0]\n",
      "    │   └── PwCalculation<480> Finished [0]\n",
      "    ├── PwBaseWorkChain<488> Finished [0] [3:results]\n",
      "    │   ├── create_kpoints_from_distance<489> Finished [0]\n",
      "    │   └── PwCalculation<493> Finished [0]\n",
      "    ├── HpWorkChain<499> Finished [0] [3:results]\n",
      "    │   ├── create_kpoints_from_distance<501> Finished [0]\n",
      "    │   └── HpBaseWorkChain<505> Finished [0] [3:results]\n",
      "    │       └── HpCalculation<507> Finished [0]\n",
      "    ├── PwRelaxWorkChain<516> Finished [0] [3:results]\n",
      "    │   ├── PwBaseWorkChain<519> Finished [0] [3:results]\n",
      "    │   │   ├── create_kpoints_from_distance<520> Finished [0]\n",
      "    │   │   └── PwCalculation<524> Finished [0]\n",
      "    │   └── PwBaseWorkChain<533> Finished [0] [3:results]\n",
      "    │       ├── create_kpoints_from_distance<534> Finished [0]\n",
      "    │       └── PwCalculation<538> Finished [0]\n",
      "    ├── PwBaseWorkChain<547> Finished [0] [3:results]\n",
      "    │   ├── create_kpoints_from_distance<548> Finished [0]\n",
      "    │   └── PwCalculation<552> Finished [0]\n",
      "    ├── PwBaseWorkChain<560> Finished [0] [3:results]\n",
      "    │   ├── create_kpoints_from_distance<561> Finished [0]\n",
      "    │   └── PwCalculation<565> Finished [0]\n",
      "    └── HpWorkChain<571> Finished [0] [3:results]\n",
      "        ├── create_kpoints_from_distance<573> Finished [0]\n",
      "        └── HpBaseWorkChain<577> Finished [0] [3:results]\n",
      "            └── HpCalculation<579> Finished [0]\u001b[0m\n"
     ]
    }
   ],
   "source": [
    "%verdi process status {node.pk}"
   ]
  },
  {
   "attachments": {},
   "cell_type": "markdown",
   "metadata": {},
   "source": [
    "And of course, here you have the final __relaxed__ structure with __fully self-consistent ab-initio Hubbard parameters__! :tada:"
   ]
  },
  {
   "cell_type": "code",
   "execution_count": 30,
   "metadata": {},
   "outputs": [
    {
     "name": "stdout",
     "output_type": "stream",
     "text": [
      "HUBBARD\tortho-atomic\n",
      " U\tCo-3d\t7.8264\n",
      "\n"
     ]
    }
   ],
   "source": [
    "from aiida_quantumespresso.utils.hubbard import HubbardUtils\n",
    "print(HubbardUtils(results['hubbard_structure']).get_hubbard_card())"
   ]
  },
  {
   "attachments": {},
   "cell_type": "markdown",
   "metadata": {},
   "source": [
    "## Final considerations\n",
    "\n",
    "We managed to compute the Hubbard parameters self-consistently with a series of relaxations, scfs, and hp calculations, ___all fully automated___! :tada:\n",
    "\n",
    "\n",
    ":::{admonition} Learn more and in details\n",
    ":class: hint\n",
    "\n",
    "To learn the full sets of inputs, to use proficiently the `get_builder_from_protocol` and more, have a look at the following sections:\n",
    "- [Specific how tos](howto/workflows/hubbard.md)\n",
    "- [General information of the implemented workchain](topics/workflows/hubbard.md)\n",
    ":::"
   ]
  }
 ],
 "metadata": {
  "kernelspec": {
   "display_name": "base",
   "language": "python",
   "name": "python3"
  },
  "language_info": {
   "codemirror_mode": {
    "name": "ipython",
    "version": 3
   },
   "file_extension": ".py",
   "mimetype": "text/x-python",
   "name": "python",
   "nbconvert_exporter": "python",
   "pygments_lexer": "ipython3",
   "version": "3.8.10"
  },
  "orig_nbformat": 4,
  "vscode": {
   "interpreter": {
    "hash": "d4d1e4263499bec80672ea0156c357c1ee493ec2b1c70f0acce89fc37c4a6abe"
   }
  }
 },
 "nbformat": 4,
 "nbformat_minor": 2
}
